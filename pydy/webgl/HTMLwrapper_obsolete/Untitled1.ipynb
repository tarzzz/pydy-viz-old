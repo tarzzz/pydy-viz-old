{
 "metadata": {
  "name": "Untitled1"
 },
 "nbformat": 3,
 "nbformat_minor": 0,
 "worksheets": [
  {
   "cells": [
    {
     "cell_type": "code",
     "collapsed": false,
     "input": [
      "from html import *\n",
      "from IPython.core.display import *\n",
      "a = html()\n",
      "a.set_main_content('This is my private html')\n",
      "p = a.htmlwrap()\n",
      "\n",
      "\n"
     ],
     "language": "python",
     "metadata": {},
     "outputs": [],
     "prompt_number": 4
    },
    {
     "cell_type": "code",
     "collapsed": false,
     "input": [
      "a.visualize()\n"
     ],
     "language": "python",
     "metadata": {},
     "outputs": [
      {
       "html": [
        "\n",
        "                    <!DOCTYPE html>\n",
        "                    <html>\n",
        "                    <head>\n",
        "                        <meta charset=\"utf-8\" />\n",
        "                        \n",
        "                    </head>\n",
        "                    <script type=\"text/javascript\"></script>\n",
        "                    <body>This is my private html</body>\n",
        "                    \n",
        "                    </html>"
       ],
       "output_type": "display_data",
       "text": [
        "<IPython.core.display.HTML at 0xa70044c>"
       ]
      }
     ],
     "prompt_number": 5
    },
    {
     "cell_type": "code",
     "collapsed": false,
     "input": [],
     "language": "python",
     "metadata": {},
     "outputs": []
    }
   ],
   "metadata": {}
  }
 ]
}